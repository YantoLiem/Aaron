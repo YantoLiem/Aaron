{
 "cells": [
  {
   "cell_type": "code",
   "execution_count": 3,
   "metadata": {
    "collapsed": false
   },
   "outputs": [
    {
     "name": "stdout",
     "output_type": "stream",
     "text": [
      "Too many cats! The world is doomed!\n",
      "The world is dry!\n",
      "People are greater than or equal to dogs.\n",
      "People are less than or equal to dogs.\n",
      "People are dogs\n"
     ]
    }
   ],
   "source": [
    "# Exercise 29 What If\n",
    "people = 20\n",
    "cats = 30\n",
    "dogs = 15\n",
    "\n",
    "\n",
    "if people < cats:\n",
    "    print(\"Too many cats! The world is doomed!\")\n",
    "\n",
    "if people > cats:\n",
    "    print(\"Not many cats! The world is saved!\")\n",
    "\n",
    "if people < dogs:\n",
    "    print(\"The world is drooled on!\")\n",
    "\n",
    "if people > dogs:\n",
    "    print (\"The world is dry!\")\n",
    "\n",
    "\n",
    "dogs += 5\n",
    "\n",
    "if people >= dogs:\n",
    "    print (\"People are greater than or equal to dogs.\")\n",
    "\n",
    "if people <= dogs:\n",
    "    print (\"People are less than or equal to dogs.\")\n",
    "\n",
    "\n",
    "if people == dogs:\n",
    "    print (\"People are dogs\")"
   ]
  },
  {
   "cell_type": "code",
   "execution_count": 5,
   "metadata": {
    "collapsed": false
   },
   "outputs": [],
   "source": [
    "# Answers to Study Drills\n",
    "#1. If the code below if is not idented, then it will be executed regardless the condition(s). \n",
    "#If the code is indented then the code only be executed if the condition(s) is met.\n",
    "#2. The code needs to be indented in order for the code to be executed under the if condition(s).\n",
    "#3. If the code below if is not idented, then it will be executed regardless the condition(s). \n",
    "#4. \n",
    "#5. As long as the condion is met, the output will the same otherwise the output may differ."
   ]
  },
  {
   "cell_type": "code",
   "execution_count": 7,
   "metadata": {
    "collapsed": false
   },
   "outputs": [
    {
     "name": "stdout",
     "output_type": "stream",
     "text": [
      "We should take the cars.\n",
      "Maybe we could take the trucks.\n",
      "Alright, let's just take the trucks.\n"
     ]
    }
   ],
   "source": [
    "# Exercise 30 Else and If\n",
    "people = 30\n",
    "cars = 40\n",
    "trucks = 15\n",
    "\n",
    "\n",
    "if cars > people:\n",
    "    print (\"We should take the cars.\")\n",
    "elif cars < people:\n",
    "    print (\"We should not take the cars.\")\n",
    "else:\n",
    "    print (\"We can't decide.\")\n",
    "\n",
    "if trucks > cars:\n",
    "    print (\"That's too many trucks.\")\n",
    "elif trucks < cars:\n",
    "    print (\"Maybe we could take the trucks.\")\n",
    "else:\n",
    "    print (\"We still can't decide.\")\n",
    "\n",
    "if people > trucks:\n",
    "    print (\"Alright, let's just take the trucks.\")\n",
    "else:\n",
    "    print (\"Fine, let's stay home then.\")"
   ]
  },
  {
   "cell_type": "code",
   "execution_count": 12,
   "metadata": {
    "collapsed": false
   },
   "outputs": [
    {
     "name": "stdout",
     "output_type": "stream",
     "text": [
      "You enter a dark room with two doors.  Do you go through door #1 or door #2?\n",
      "> 1\n",
      "There's a giant bear here eating a cheese cake.  What do you do?\n",
      "1. Take the cake.\n",
      "2. Scream at the bear.\n",
      "> 2\n",
      "The bear eats your legs off.  Good job!\n"
     ]
    }
   ],
   "source": [
    "# Exercise 31: Making Decisions\n",
    "print (\"You enter a dark room with two doors.  Do you go through door #1 or door #2?\")\n",
    "\n",
    "door = input(\"> \")\n",
    "\n",
    "if door == \"1\":\n",
    "    print (\"There's a giant bear here eating a cheese cake.  What do you do?\")\n",
    "    print (\"1. Take the cake.\")\n",
    "    print (\"2. Scream at the bear.\")\n",
    "\n",
    "    bear = input(\"> \")\n",
    "\n",
    "    if bear == \"1\":\n",
    "        print (\"The bear eats your face off.  Good job!\")\n",
    "    elif bear == \"2\":\n",
    "        print (\"The bear eats your legs off.  Good job!\")\n",
    "    else:\n",
    "        print (\"Well, doing %s is probably better.  Bear runs away.\" % bear)\n",
    "\n",
    "elif door == \"2\":\n",
    "    print (\"You stare into the endless abyss at Cthulhu's retina.\")\n",
    "    print (\"1. Blueberries.\")\n",
    "    print (\"2. Yellow jacket clothespins.\")\n",
    "    print (\"3. Understanding revolvers yelling melodies.\")\n",
    "\n",
    "    insanity = raw_input(\"> \")\n",
    "\n",
    "    if insanity == \"1\" or insanity == \"2\":\n",
    "        print (\"Your body survives powered by a mind of jello.  Good job!\")\n",
    "    else:\n",
    "        print (\"The insanity rots your eyes into a pool of muck.  Good job!\")\n",
    "\n",
    "else:\n",
    "    print (\"You stumble around and fall on a knife and die.  Good job!\")\n"
   ]
  },
  {
   "cell_type": "code",
   "execution_count": 13,
   "metadata": {
    "collapsed": false
   },
   "outputs": [
    {
     "name": "stdout",
     "output_type": "stream",
     "text": [
      "This is count 1\n",
      "This is count 2\n",
      "This is count 3\n",
      "This is count 4\n",
      "This is count 5\n",
      "A fruit of type: apples\n",
      "A fruit of type: oranges\n",
      "A fruit of type: pears\n",
      "A fruit of type: apricots\n",
      "I got 1\n",
      "I got 'pennies'\n",
      "I got 2\n",
      "I got 'dimes'\n",
      "I got 3\n",
      "I got 'quarters'\n",
      "Adding 0 to the list.\n",
      "Adding 1 to the list.\n",
      "Adding 2 to the list.\n",
      "Adding 3 to the list.\n",
      "Adding 4 to the list.\n",
      "Adding 5 to the list.\n",
      "Element was: 0\n",
      "Element was: 1\n",
      "Element was: 2\n",
      "Element was: 3\n",
      "Element was: 4\n",
      "Element was: 5\n"
     ]
    }
   ],
   "source": [
    "# Exercise 32: Loops and Lists\n",
    "the_count = [1, 2, 3, 4, 5]\n",
    "fruits = ['apples', 'oranges', 'pears', 'apricots']\n",
    "change = [1, 'pennies', 2, 'dimes', 3, 'quarters']\n",
    "\n",
    "# this first kind of for-loop goes through a list\n",
    "for number in the_count:\n",
    "    print (\"This is count %d\" % number)\n",
    "\n",
    "# same as above\n",
    "for fruit in fruits:\n",
    "    print (\"A fruit of type: %s\" % fruit)\n",
    "\n",
    "# also we can go through mixed lists too\n",
    "# notice we have to use %r since we don't know what's in it\n",
    "for i in change:\n",
    "    print (\"I got %r\" % i)\n",
    "\n",
    "# we can also build lists, first start with an empty one\n",
    "elements = []\n",
    "\n",
    "# then use the range function to do 0 to 5 counts\n",
    "for i in range(0, 6):\n",
    "    print (\"Adding %d to the list.\" % i)\n",
    "    # append is a function that lists understand\n",
    "    elements.append(i)\n",
    "\n",
    "# now we can print them out too\n",
    "for i in elements:\n",
    "    print (\"Element was: %d\" % i)"
   ]
  },
  {
   "cell_type": "code",
   "execution_count": 14,
   "metadata": {
    "collapsed": false
   },
   "outputs": [
    {
     "name": "stdout",
     "output_type": "stream",
     "text": [
      "At the top i is 0\n",
      "Numbers now:  [0]\n",
      "At the bottom i is 1\n",
      "At the top i is 1\n",
      "Numbers now:  [0, 1]\n",
      "At the bottom i is 2\n",
      "At the top i is 2\n",
      "Numbers now:  [0, 1, 2]\n",
      "At the bottom i is 3\n",
      "At the top i is 3\n",
      "Numbers now:  [0, 1, 2, 3]\n",
      "At the bottom i is 4\n",
      "At the top i is 4\n",
      "Numbers now:  [0, 1, 2, 3, 4]\n",
      "At the bottom i is 5\n",
      "At the top i is 5\n",
      "Numbers now:  [0, 1, 2, 3, 4, 5]\n",
      "At the bottom i is 6\n",
      "The numbers: \n",
      "0\n",
      "1\n",
      "2\n",
      "3\n",
      "4\n",
      "5\n"
     ]
    }
   ],
   "source": [
    "# Exercise 33: While Loops\n",
    "i = 0\n",
    "numbers = []\n",
    "\n",
    "while i < 6:\n",
    "    print (\"At the top i is %d\" % i)\n",
    "    numbers.append(i)\n",
    "\n",
    "    i = i + 1\n",
    "    print (\"Numbers now: \", numbers)\n",
    "    print (\"At the bottom i is %d\" % i)\n",
    "\n",
    "\n",
    "print (\"The numbers: \")\n",
    "\n",
    "for num in numbers:\n",
    "    print (num)"
   ]
  },
  {
   "cell_type": "code",
   "execution_count": null,
   "metadata": {
    "collapsed": true
   },
   "outputs": [],
   "source": []
  }
 ],
 "metadata": {
  "kernelspec": {
   "display_name": "Python 3",
   "language": "python",
   "name": "python3"
  },
  "language_info": {
   "codemirror_mode": {
    "name": "ipython",
    "version": 3
   },
   "file_extension": ".py",
   "mimetype": "text/x-python",
   "name": "python",
   "nbconvert_exporter": "python",
   "pygments_lexer": "ipython3",
   "version": "3.5.1"
  }
 },
 "nbformat": 4,
 "nbformat_minor": 0
}
