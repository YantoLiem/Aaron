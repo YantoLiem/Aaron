{
 "cells": [
  {
   "cell_type": "code",
   "execution_count": 4,
   "metadata": {
    "collapsed": false
   },
   "outputs": [
    {
     "ename": "ImportError",
     "evalue": "cannot import name 'urlopen'",
     "output_type": "error",
     "traceback": [
      "\u001b[0;31m---------------------------------------------------------------------------\u001b[0m",
      "\u001b[0;31mImportError\u001b[0m                               Traceback (most recent call last)",
      "\u001b[0;32m<ipython-input-4-2fad1e7f7869>\u001b[0m in \u001b[0;36m<module>\u001b[0;34m()\u001b[0m\n\u001b[1;32m      1\u001b[0m \u001b[0;32mimport\u001b[0m \u001b[0mrandom\u001b[0m\u001b[0;34m\u001b[0m\u001b[0m\n\u001b[0;32m----> 2\u001b[0;31m \u001b[0;32mfrom\u001b[0m \u001b[0murllib\u001b[0m \u001b[0;32mimport\u001b[0m \u001b[0murlopen\u001b[0m\u001b[0;34m\u001b[0m\u001b[0m\n\u001b[0m\u001b[1;32m      3\u001b[0m \u001b[0;32mimport\u001b[0m \u001b[0msys\u001b[0m\u001b[0;34m\u001b[0m\u001b[0m\n\u001b[1;32m      4\u001b[0m \u001b[0;34m\u001b[0m\u001b[0m\n\u001b[1;32m      5\u001b[0m \u001b[0mWORD_URL\u001b[0m \u001b[0;34m=\u001b[0m \u001b[0;34m\"http://learncodethehardway.org/words.txt\"\u001b[0m\u001b[0;34m\u001b[0m\u001b[0m\n",
      "\u001b[0;31mImportError\u001b[0m: cannot import name 'urlopen'"
     ]
    }
   ],
   "source": [
    "import random\n",
    "from urllib import urlopen\n",
    "import sys\n",
    "\n",
    "WORD_URL = \"http://learncodethehardway.org/words.txt\"\n",
    "WORDS = []\n",
    "\n",
    "PHRASES = {\n",
    "    \"class %%%(%%%):\":\n",
    "      \"Make a class named %%% that is-a %%%.\",\n",
    "    \"class %%%(object):\\n\\tdef __init__(self, ***)\" :\n",
    "      \"class %%% has-a __init__ that takes self and *** parameters.\",\n",
    "    \"class %%%(object):\\n\\tdef ***(self, @@@)\":\n",
    "      \"class %%% has-a function named *** that takes self and @@@ parameters.\",\n",
    "    \"*** = %%%()\":\n",
    "      \"Set *** to an instance of class %%%.\",\n",
    "    \"***.***(@@@)\":\n",
    "      \"From *** get the *** function, and call it with parameters self, @@@.\",\n",
    "    \"***.*** = '***'\":\n",
    "      \"From *** get the *** attribute and set it to '***'.\"\n",
    "}\n",
    "\n",
    "# do they want to drill phrases first\n",
    "if len(sys.argv) == 2 and sys.argv[1] == \"english\":\n",
    "    PHRASE_FIRST = True\n",
    "else:\n",
    "    PHRASE_FIRST = False\n",
    "\n",
    "# load up the words from the website\n",
    "for word in urlopen(WORD_URL).readlines():\n",
    "    WORDS.append(word.strip())\n",
    "\n",
    "\n",
    "def convert(snippet, phrase):\n",
    "    class_names = [w.capitalize() for w in\n",
    "                   random.sample(WORDS, snippet.count(\"%%%\"))]\n",
    "    other_names = random.sample(WORDS, snippet.count(\"***\"))\n",
    "    results = []\n",
    "    param_names = []\n",
    "\n",
    "    for i in range(0, snippet.count(\"@@@\")):\n",
    "        param_count = random.randint(1,3)\n",
    "        param_names.append(', '.join(random.sample(WORDS, param_count)))\n",
    "\n",
    "    for sentence in snippet, phrase:\n",
    "        result = sentence[:]\n",
    "\n",
    "        # fake class names\n",
    "        for word in class_names:\n",
    "            result = result.replace(\"%%%\", word, 1)\n",
    "\n",
    "        # fake other names\n",
    "        for word in other_names:\n",
    "            result = result.replace(\"***\", word, 1)\n",
    "\n",
    "        # fake parameter lists\n",
    "        for word in param_names:\n",
    "            result = result.replace(\"@@@\", word, 1)\n",
    "\n",
    "        results.append(result)\n",
    "\n",
    "    return results\n",
    "\n",
    "\n",
    "# keep going until they hit CTRL-D\n",
    "try:\n",
    "    while True:\n",
    "        snippets = PHRASES.keys()\n",
    "        random.shuffle(snippets)\n",
    "\n",
    "        for snippet in snippets:\n",
    "            phrase = PHRASES[snippet]\n",
    "            question, answer = convert(snippet, phrase)\n",
    "            if PHRASE_FIRST:\n",
    "                question, answer = answer, question\n",
    "\n",
    "            print (question)\n",
    "\n",
    "            raw_input(\"> \")\n",
    "            print (\"ANSWER:  %s\\n\\n\" % answer)\n",
    "except EOFError:\n",
    "    print (\"\\nBye\")"
   ]
  },
  {
   "cell_type": "code",
   "execution_count": null,
   "metadata": {
    "collapsed": true
   },
   "outputs": [],
   "source": []
  }
 ],
 "metadata": {
  "kernelspec": {
   "display_name": "Python 3",
   "language": "python",
   "name": "python3"
  },
  "language_info": {
   "codemirror_mode": {
    "name": "ipython",
    "version": 3
   },
   "file_extension": ".py",
   "mimetype": "text/x-python",
   "name": "python",
   "nbconvert_exporter": "python",
   "pygments_lexer": "ipython3",
   "version": "3.5.1"
  }
 },
 "nbformat": 4,
 "nbformat_minor": 0
}
